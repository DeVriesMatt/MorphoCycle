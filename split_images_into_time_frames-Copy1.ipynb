{
 "cells": [
  {
   "cell_type": "code",
   "execution_count": 19,
   "id": "3ef796ac-e901-4423-ac51-a5b1bf3038ff",
   "metadata": {},
   "outputs": [],
   "source": [
    "import tifffile as tfl\n",
    "\n",
    "img = tfl.imread(\"/mnt/nvme0n1/Datasets/PCNA/PhaseToFluorNorm16/mCh_100Pc_subBkg/D_1_added_as_no_00006/00402.tif\")"
   ]
  },
  {
   "cell_type": "code",
   "execution_count": 20,
   "id": "68f716ae",
   "metadata": {},
   "outputs": [
    {
     "data": {
      "text/plain": [
       "(1024, 1376)"
      ]
     },
     "execution_count": 20,
     "metadata": {},
     "output_type": "execute_result"
    }
   ],
   "source": [
    "img.shape"
   ]
  },
  {
   "cell_type": "code",
   "execution_count": 21,
   "id": "af549405",
   "metadata": {},
   "outputs": [],
   "source": [
    "import numpy as np\n",
    "\n",
    "img0 = cv2.cvtColor(np.clip(img * 65535, 0, 65535).astype(np.uint16), cv2.COLOR_GRAY2BGR)\n",
    "\n",
    "img1 = cv2.cvtColor(np.clip(img * 65535, 0, 65535).astype(np.uint16), cv2.COLOR_GRAY2BGR)\n"
   ]
  },
  {
   "cell_type": "code",
   "execution_count": 24,
   "id": "973d133a-4724-4eb8-82e7-de4e48f0ece9",
   "metadata": {},
   "outputs": [],
   "source": [
    "import cv2\n",
    "import math\n",
    "\n",
    "h, w, c = img0.shape\n",
    "\n",
    "if h % 64 != 0 or w % 64 != 0:\n",
    "    h_new = math.ceil(h / 64) * 64\n",
    "    w_new = math.ceil(w / 64) * 64\n",
    "    pad_t = (h_new - h) // 2\n",
    "    pad_d = (h_new - h) // 2 + (h_new - h) % 2\n",
    "    pad_l = (w_new - w) // 2\n",
    "    pad_r = (w_new - w) // 2 + (w_new - w) % 2\n",
    "    img0 = cv2.copyMakeBorder(img0.copy(), pad_t, pad_d, pad_l, pad_r, cv2.BORDER_CONSTANT, value=0)  # cv2.BORDER_REFLECT\n",
    "    img1 = cv2.copyMakeBorder(img1.copy(), pad_t, pad_d, pad_l, pad_r, cv2.BORDER_CONSTANT, value=0)\n",
    "else:\n",
    "    pad_t, pad_d, pad_l, pad_r = 0, 0, 0, 0\n",
    "pad_nums = [pad_t, pad_d, pad_l, pad_r]"
   ]
  },
  {
   "cell_type": "code",
   "execution_count": 17,
   "id": "42c8d5e6",
   "metadata": {},
   "outputs": [
    {
     "data": {
      "text/plain": [
       "(1024, 1408, 3)"
      ]
     },
     "execution_count": 17,
     "metadata": {},
     "output_type": "execute_result"
    }
   ],
   "source": [
    "img0.shape"
   ]
  }
 ],
 "metadata": {
  "kernelspec": {
   "display_name": "Python 3 (ipykernel)",
   "language": "python",
   "name": "python3"
  },
  "language_info": {
   "codemirror_mode": {
    "name": "ipython",
    "version": 3
   },
   "file_extension": ".py",
   "mimetype": "text/x-python",
   "name": "python",
   "nbconvert_exporter": "python",
   "pygments_lexer": "ipython3",
   "version": "3.8.13"
  }
 },
 "nbformat": 4,
 "nbformat_minor": 5
}
